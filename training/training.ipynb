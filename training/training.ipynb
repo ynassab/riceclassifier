{
 "cells": [
  {
   "cell_type": "code",
   "execution_count": 1,
   "metadata": {
    "executionInfo": {
     "elapsed": 2479,
     "status": "ok",
     "timestamp": 1674775126452,
     "user": {
      "displayName": "Yahia Nassab",
      "userId": "08969703246693226911"
     },
     "user_tz": 300
    },
    "id": "N74Si54Pg2e9"
   },
   "outputs": [],
   "source": [
    "import os\n",
    "# Turn off info messages\n",
    "os.environ['TF_CPP_MIN_LOG_LEVEL'] = '1'\n",
    "\n",
    "import tensorflow as tf\n",
    "from keras import models, layers, regularizers\n",
    "import matplotlib.pyplot as plt\n",
    "import numpy as np"
   ]
  },
  {
   "cell_type": "code",
   "execution_count": null,
   "metadata": {
    "executionInfo": {
     "elapsed": 5,
     "status": "ok",
     "timestamp": 1674775126453,
     "user": {
      "displayName": "Yahia Nassab",
      "userId": "08969703246693226911"
     },
     "user_tz": 300
    },
    "id": "bkiJxABBhHio"
   },
   "outputs": [],
   "source": [
    "# Data prep\n",
    "NUM_PIXELS = 224\n",
    "IMAGE_SIZE = (NUM_PIXELS, NUM_PIXELS)\n",
    "VALIDATION_SPLIT = 0.2\n",
    "SHUFFLING_SEED = 123  # Arbitrary; ensures validation set is stable between runs\n",
    "BATCH_SIZE = 16\n",
    "NUM_EPOCHS = 5\n",
    "\n",
    "# CNN parameters\n",
    "KERNEL_SIZE = (4,4)  # Larger-than-typical kernel for large features in rice\n",
    "POOL_SIZE = (4,4)  # Larger pool size to save more memory\n",
    "\n",
    "# Reduce overfitting\n",
    "DROPOUT_RATE = 0.2\n",
    "LAMBDA_2 = 0.01"
   ]
  },
  {
   "cell_type": "code",
   "execution_count": null,
   "metadata": {
    "executionInfo": {
     "elapsed": 4,
     "status": "ok",
     "timestamp": 1674775126453,
     "user": {
      "displayName": "Yahia Nassab",
      "userId": "08969703246693226911"
     },
     "user_tz": 300
    },
    "id": "2pmQvW1OhIgY"
   },
   "outputs": [],
   "source": [
    "def build_dataset(data_dir, subset):\n",
    "    return tf.keras.preprocessing.image_dataset_from_directory(\n",
    "        data_dir,\n",
    "        validation_split=VALIDATION_SPLIT,\n",
    "        subset=subset,\n",
    "        label_mode=\"categorical\",\n",
    "        seed=SHUFFLING_SEED,\n",
    "        image_size=IMAGE_SIZE,\n",
    "        batch_size=1)"
   ]
  },
  {
   "cell_type": "code",
   "execution_count": null,
   "metadata": {
    "executionInfo": {
     "elapsed": 4,
     "status": "ok",
     "timestamp": 1674775126453,
     "user": {
      "displayName": "Yahia Nassab",
      "userId": "08969703246693226911"
     },
     "user_tz": 300
    },
    "id": "zvhWDSJuhJ8f"
   },
   "outputs": [],
   "source": [
    "def set_new_checkpoint_callback(checkpoint_dir):\n",
    "    checkpoint_prefix = os.path.join(checkpoint_dir, 'ckpt_{epoch}')\n",
    "    checkpoint_callback = tf.keras.callbacks.ModelCheckpoint(filepath=checkpoint_prefix, save_weights_only=True)\n",
    "    return checkpoint_callback"
   ]
  },
  {
   "cell_type": "code",
   "execution_count": null,
   "metadata": {
    "executionInfo": {
     "elapsed": 5,
     "status": "ok",
     "timestamp": 1674775126454,
     "user": {
      "displayName": "Yahia Nassab",
      "userId": "08969703246693226911"
     },
     "user_tz": 300
    },
    "id": "qMcSZQsRhMCu"
   },
   "outputs": [],
   "source": [
    "def prepare_new_model(image_size, num_output_neurons):\n",
    "    data_augmentation = models.Sequential([\n",
    "        layers.RandomFlip(\"horizontal_and_vertical\"),\n",
    "        layers.RandomRotation(0.2),\n",
    "    ])\n",
    "\n",
    "    model = models.Sequential([\n",
    "        data_augmentation,  # Reduce overfitting by applying random transformations\n",
    "        layers.Conv2D(32, kernel_size=KERNEL_SIZE, activation='relu', input_shape=image_size+(3,)),\n",
    "        layers.MaxPooling2D(pool_size=POOL_SIZE),\n",
    "        layers.Conv2D(64, kernel_size=KERNEL_SIZE, activation='relu'),\n",
    "        layers.MaxPooling2D(pool_size=POOL_SIZE),\n",
    "        layers.Flatten(),\n",
    "        layers.Dense(128, activation='relu', kernel_regularizer=regularizers.L2(LAMBDA_2)),\n",
    "        layers.Dropout(DROPOUT_RATE),\n",
    "        layers.Dense(num_output_neurons, activation='softmax')\n",
    "    ])\n",
    "\n",
    "    model.compile(loss='categorical_crossentropy',\n",
    "                  optimizer='adam',\n",
    "                  metrics=['accuracy'])\n",
    "\n",
    "    return model"
   ]
  },
  {
   "cell_type": "code",
   "execution_count": 6,
   "metadata": {
    "colab": {
     "base_uri": "https://localhost:8080/",
     "height": 70
    },
    "executionInfo": {
     "elapsed": 21434,
     "status": "ok",
     "timestamp": 1674775148179,
     "user": {
      "displayName": "Yahia Nassab",
      "userId": "08969703246693226911"
     },
     "user_tz": 300
    },
    "id": "4iP-5J42hPEQ",
    "outputId": "929b0daa-8b15-4683-d57c-864ed2317a6e"
   },
   "outputs": [
    {
     "name": "stdout",
     "output_type": "stream",
     "text": [
      "Downloading data from https://www.muratkoklu.com/datasets/vtdhnd09.php\n",
      "229550800/229550800 [==============================] - 10s 0us/step\n"
     ]
    },
    {
     "data": {
      "application/vnd.google.colaboratory.intrinsic+json": {
       "type": "string"
      },
      "text/plain": [
       "'/root/.keras/datasets/vtdhnd09.php'"
      ]
     },
     "execution_count": 6,
     "metadata": {},
     "output_type": "execute_result"
    }
   ],
   "source": [
    "tf.keras.utils.get_file(origin='https://www.muratkoklu.com/datasets/vtdhnd09.php', extract=True)"
   ]
  },
  {
   "cell_type": "code",
   "execution_count": 7,
   "metadata": {
    "colab": {
     "base_uri": "https://localhost:8080/"
    },
    "executionInfo": {
     "elapsed": 242,
     "status": "ok",
     "timestamp": 1674775148415,
     "user": {
      "displayName": "Yahia Nassab",
      "userId": "08969703246693226911"
     },
     "user_tz": 300
    },
    "id": "WMYaEoyooqzX",
    "outputId": "4c58e969-b819-483c-d99e-0f789cd22276"
   },
   "outputs": [
    {
     "name": "stdout",
     "output_type": "stream",
     "text": [
      "Rice_Image_Dataset  vtdhnd09.php\n"
     ]
    }
   ],
   "source": [
    "!ls /root/.keras/datasets/"
   ]
  },
  {
   "cell_type": "code",
   "execution_count": null,
   "metadata": {
    "executionInfo": {
     "elapsed": 4,
     "status": "ok",
     "timestamp": 1674775148416,
     "user": {
      "displayName": "Yahia Nassab",
      "userId": "08969703246693226911"
     },
     "user_tz": 300
    },
    "id": "NO0Mqzw6ox4m"
   },
   "outputs": [],
   "source": [
    "data_dir = \"/root/.keras/datasets/Rice_Image_Dataset\""
   ]
  },
  {
   "cell_type": "code",
   "execution_count": null,
   "metadata": {
    "colab": {
     "base_uri": "https://localhost:8080/"
    },
    "executionInfo": {
     "elapsed": 8566,
     "status": "ok",
     "timestamp": 1674775156979,
     "user": {
      "displayName": "Yahia Nassab",
      "userId": "08969703246693226911"
     },
     "user_tz": 300
    },
    "id": "Niq3t7uYiB1E",
    "outputId": "ee864d9a-f584-4619-c0de-f8812f6488c3"
   },
   "outputs": [
    {
     "name": "stdout",
     "output_type": "stream",
     "text": [
      "Found 75000 files belonging to 5 classes.\n",
      "Using 60000 files for training.\n",
      "Found 75000 files belonging to 5 classes.\n",
      "Using 15000 files for validation.\n"
     ]
    }
   ],
   "source": [
    "train_ds = build_dataset(data_dir, \"training\")\n",
    "\n",
    "# Extract size and class names before batching\n",
    "train_ds_size = train_ds.cardinality().numpy()\n",
    "class_names = tuple(train_ds.class_names)\n",
    "train_ds = train_ds.unbatch().batch(BATCH_SIZE)\n",
    "train_ds = train_ds.repeat()\n",
    "\n",
    "val_ds = build_dataset(data_dir, \"validation\")\n",
    "val_ds_size = val_ds.cardinality().numpy()\n",
    "val_ds = val_ds.unbatch().batch(BATCH_SIZE)"
   ]
  },
  {
   "cell_type": "code",
   "execution_count": null,
   "metadata": {
    "executionInfo": {
     "elapsed": 214,
     "status": "ok",
     "timestamp": 1674775159428,
     "user": {
      "displayName": "Yahia Nassab",
      "userId": "08969703246693226911"
     },
     "user_tz": 300
    },
    "id": "59B8AHDeiFWb"
   },
   "outputs": [],
   "source": [
    "model = prepare_new_model(IMAGE_SIZE, len(class_names))"
   ]
  },
  {
   "cell_type": "code",
   "execution_count": 11,
   "metadata": {
    "executionInfo": {
     "elapsed": 3,
     "status": "ok",
     "timestamp": 1674775159910,
     "user": {
      "displayName": "Yahia Nassab",
      "userId": "08969703246693226911"
     },
     "user_tz": 300
    },
    "id": "I3jB2Fh6p8k0"
   },
   "outputs": [],
   "source": [
    "steps_per_epoch = train_ds_size // BATCH_SIZE\n",
    "validation_steps = val_ds_size // BATCH_SIZE"
   ]
  },
  {
   "cell_type": "code",
   "execution_count": 12,
   "metadata": {
    "executionInfo": {
     "elapsed": 4,
     "status": "ok",
     "timestamp": 1674775159911,
     "user": {
      "displayName": "Yahia Nassab",
      "userId": "08969703246693226911"
     },
     "user_tz": 300
    },
    "id": "SZzJNiIUqJzO"
   },
   "outputs": [],
   "source": [
    "current_iteration = 2"
   ]
  },
  {
   "cell_type": "code",
   "execution_count": null,
   "metadata": {
    "executionInfo": {
     "elapsed": 3,
     "status": "ok",
     "timestamp": 1674775159911,
     "user": {
      "displayName": "Yahia Nassab",
      "userId": "08969703246693226911"
     },
     "user_tz": 300
    },
    "id": "84WZsHY3p-zm"
   },
   "outputs": [],
   "source": [
    "checkpoint_callback = set_new_checkpoint_callback(\n",
    "    checkpoint_dir=f'drive/MyDrive/Colab Notebooks/RiceML/training_checkpoints_{current_iteration}')"
   ]
  },
  {
   "cell_type": "code",
   "execution_count": null,
   "metadata": {
    "colab": {
     "base_uri": "https://localhost:8080/"
    },
    "executionInfo": {
     "elapsed": 982767,
     "status": "ok",
     "timestamp": 1674776143452,
     "user": {
      "displayName": "Yahia Nassab",
      "userId": "08969703246693226911"
     },
     "user_tz": 300
    },
    "id": "wEvfDBsmqAsY",
    "outputId": "3c1fab5c-e64f-4480-8ecb-856cd55b3960"
   },
   "outputs": [
    {
     "name": "stdout",
     "output_type": "stream",
     "text": [
      "Epoch 1/5\n",
      "3750/3750 [==============================] - 208s 53ms/step - loss: 0.7319 - accuracy: 0.9361 - val_loss: 0.2313 - val_accuracy: 0.9724\n",
      "Epoch 2/5\n",
      "3750/3750 [==============================] - 194s 52ms/step - loss: 0.2392 - accuracy: 0.9637 - val_loss: 0.1742 - val_accuracy: 0.9783\n",
      "Epoch 3/5\n",
      "3750/3750 [==============================] - 192s 51ms/step - loss: 0.2140 - accuracy: 0.9671 - val_loss: 0.1724 - val_accuracy: 0.9789\n",
      "Epoch 4/5\n",
      "3750/3750 [==============================] - 195s 52ms/step - loss: 0.1906 - accuracy: 0.9693 - val_loss: 0.1597 - val_accuracy: 0.9799\n",
      "Epoch 5/5\n",
      "3750/3750 [==============================] - 193s 51ms/step - loss: 0.1792 - accuracy: 0.9709 - val_loss: 0.1613 - val_accuracy: 0.9803\n"
     ]
    },
    {
     "data": {
      "text/plain": [
       "<keras.callbacks.History at 0x7f6a9c647340>"
      ]
     },
     "execution_count": 14,
     "metadata": {},
     "output_type": "execute_result"
    }
   ],
   "source": [
    "model.fit(train_ds,\n",
    "          epochs=NUM_EPOCHS,\n",
    "          steps_per_epoch=steps_per_epoch,\n",
    "          validation_data=val_ds,\n",
    "          validation_steps=validation_steps,\n",
    "          callbacks=[checkpoint_callback])"
   ]
  },
  {
   "cell_type": "code",
   "execution_count": null,
   "metadata": {
    "id": "Ozh56Oak5vTf"
   },
   "outputs": [],
   "source": []
  }
 ],
 "metadata": {
  "accelerator": "GPU",
  "colab": {
   "authorship_tag": "ABX9TyM45YLY6/+skNPgonGxvaif",
   "mount_file_id": "1lyMqQxf-quUw2H0VpeEhVyaUz9HPdPO2",
   "provenance": []
  },
  "gpuClass": "standard",
  "kernelspec": {
   "display_name": "Python 3",
   "name": "python3"
  },
  "language_info": {
   "name": "python"
  }
 },
 "nbformat": 4,
 "nbformat_minor": 0
}
